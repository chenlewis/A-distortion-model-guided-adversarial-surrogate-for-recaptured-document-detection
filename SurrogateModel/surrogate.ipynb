{
 "cells": [
  {
   "cell_type": "markdown",
   "id": "76737e66-2ed3-47d6-a5bf-3ba26cc29b2f",
   "metadata": {},
   "source": [
    "# Stage One\n",
    "Refer to the training process of CycleGAN. The \"dataroot\" directory contains trainA, trainB, testA and testB, where A is the genuine sample and B is the recaptured sample."
   ]
  },
  {
   "cell_type": "code",
   "execution_count": null,
   "id": "02fcf7b0-441c-48dc-8029-2bd1bd6c27c2",
   "metadata": {
    "tags": []
   },
   "outputs": [],
   "source": [
    "%run train.py --dataroot \"dataroot\" \\\n",
    "--gpu_ids 0 \\\n",
    "--name \"stageone_train\" \\\n",
    "--model cycle_gan \\\n",
    "--pool_size 50 \\\n",
    "--no_dropout \\\n",
    "--batch_size 1 \\\n",
    "--display_env \"stageone_train\" \\\n",
    "--load_size 224 \\\n",
    "--crop_size 224 \\\n",
    "--display_freq 200 \\\n",
    "--print_freq 200 \\\n",
    "--save_epoch_freq 1 \\\n",
    "--dataset_mode stageone"
   ]
  },
  {
   "cell_type": "markdown",
   "id": "7701e726-f3dc-408a-9529-49758809faaa",
   "metadata": {},
   "source": [
    "# Stage Two\n",
    "The \"dataroot\" directory contains trainA, trainB, trainC, testA, testB and testC, where A is the genuine sample, B is the simulated recaptured sample and C is the real recaptured sample. Refer to the continued training process of CycleGAN and store the pre-trained model in the corresponding checkpoint directory."
   ]
  },
  {
   "cell_type": "code",
   "execution_count": null,
   "id": "edb5e118-ed9d-4cbd-bd89-ee4949e90b52",
   "metadata": {
    "tags": []
   },
   "outputs": [],
   "source": [
    "%run train.py --dataroot \"dataroot\" \\\n",
    "--gpu_ids 0 \\\n",
    "--name \"stagetwo_train\" \\\n",
    "--model stagetwo_cycle_gan \\\n",
    "--pool_size 50 \\\n",
    "--no_dropout \\\n",
    "--batch_size 1 \\\n",
    "--display_env \"stagetwo_train\" \\\n",
    "--load_size 224 \\\n",
    "--crop_size 224 \\\n",
    "--display_freq 200 \\\n",
    "--print_freq 200 \\\n",
    "--save_epoch_freq 1 \\\n",
    "--dataset_mode stagetwo \\\n",
    "--continue_train \\\n",
    "--epoch 50"
   ]
  },
  {
   "cell_type": "markdown",
   "id": "7c4d5a03-86b4-406c-903c-1fb79713eb85",
   "metadata": {},
   "source": [
    "# Test"
   ]
  },
  {
   "cell_type": "code",
   "execution_count": null,
   "id": "4941d753-a970-4fbd-883a-a31da1a5e68d",
   "metadata": {},
   "outputs": [],
   "source": [
    "%run test.py --dataroot \"dataroot\" \\\n",
    "--name \"experiment name\" \\\n",
    "--model cycle_gan \\\n",
    "--phase test \\\n",
    "--no_dropout \\\n",
    "--gpu_ids 0 \\\n",
    "--num_test 50000 \\\n",
    "--epoch 50 \\\n",
    "--load_size 224 \\\n",
    "--crop_size 224 \\\n",
    "--dataset_mode stageone"
   ]
  }
 ],
 "metadata": {
  "kernelspec": {
   "display_name": "MoireRemoval",
   "language": "python",
   "name": "moireremoval"
  },
  "language_info": {
   "codemirror_mode": {
    "name": "ipython",
    "version": 3
   },
   "file_extension": ".py",
   "mimetype": "text/x-python",
   "name": "python",
   "nbconvert_exporter": "python",
   "pygments_lexer": "ipython3",
   "version": "3.8.12"
  }
 },
 "nbformat": 4,
 "nbformat_minor": 5
}
